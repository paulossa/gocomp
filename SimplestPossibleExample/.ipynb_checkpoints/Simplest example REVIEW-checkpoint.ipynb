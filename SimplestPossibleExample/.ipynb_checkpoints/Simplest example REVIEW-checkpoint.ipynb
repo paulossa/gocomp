{
 "cells": [
  {
   "cell_type": "code",
   "execution_count": 1,
   "metadata": {
    "scrolled": true
   },
   "outputs": [
    {
     "name": "stdout",
     "output_type": "stream",
     "text": [
      "jflex\n",
      "\n",
      "This is JFlex 1.6.1\n",
      "\n",
      "Reading \"cup\\lcalc.flex\"\n",
      "Constructing NFA : 46 states in NFA\n",
      "Converting NFA to DFA : \n",
      ".................\n",
      "19 states before minimization, 14 states in minimized DFA\n",
      "Writing code to \"cup\\Lexer.java\"\n",
      "\n"
     ]
    },
    {
     "data": {
      "text/plain": [
       "['delfiles.bat',\n",
       " 'lcalc.flex',\n",
       " 'Lexer.java',\n",
       " 'Main.java',\n",
       " 'test.txt',\n",
       " 'ycalc.cup']"
      ]
     },
     "execution_count": 1,
     "metadata": {},
     "output_type": "execute_result"
    }
   ],
   "source": [
    "## Primeiro criando o Lexer\n",
    "def cmd(command):\n",
    "    from os import popen\n",
    "    print(popen(command).read())\n",
    "from os import listdir as ls\n",
    "\"\"\"\n",
    "To make jflex available as an app. Unzip jflex from http://jflex.de/download.html \n",
    "and add JFLEX_HOME to your and %JFLEX_HOME%\\bin to your path\n",
    "\n",
    "SET JFLEX_HOME=c:\\jflex\\\n",
    "\"\"\"    \n",
    "cmd('echo %JFLEX_HOME%')\n",
    "cmd('jflex --version')\n",
    "cmd('jflex cup/lcalc.flex')\n",
    "ls('cup')"
   ]
  },
  {
   "cell_type": "markdown",
   "metadata": {},
   "source": [
    "#### Definição CUP - Regras Gramática\n",
    "\n",
    "Considere que a gramática e ações semânticas serão feitas no **ycalc.cup**.  \n",
    "Considere o seguinte código: \n",
    "```cup\n",
    "   #Gramática exemplo (calculadora) \n",
    "    expr_list ::=   expr_list expr_part\n",
    "                 | expr_part\n",
    "    expr_part ::=   expr SEMI\n",
    "    expr      ::=   expr PLUS factor\n",
    "                 | expr MINUS factor\n",
    "                 | factor\n",
    "    factor    ::=   factor TIMES term\n",
    "                 | factor DIVIDE term\n",
    "                 | term\n",
    "    term     ::=    LPAREN expr RPAREN\n",
    "                 | NUMBER\n",
    "                 | ID     \n",
    "                 \n",
    "    .... \n",
    "    \n",
    "    expr_list ::= expr_list expr_part\n",
    "                 |\n",
    "                 expr_part;\n",
    "    \n",
    "    expr_part ::= expr:e\n",
    "                 {: System.out.println(\" = \" + e); :}\n",
    "                 SEMI\n",
    "                 ;\n",
    "    \n",
    "    expr      ::= expr:e PLUS factor:f\n",
    "                 {: RESULT = new Integer(e.intValue() + f.intValue()); :}\n",
    "                 |\n",
    "                 expr:e MINUS factor:f\n",
    "                 {: RESULT = new Integer(e.intValue() - f.intValue()); :}\n",
    "                 |\n",
    "                 factor:f\n",
    "                 {: RESULT = new Integer(f.intValue()); :}\n",
    "                 ;\n",
    "    \n",
    "    factor    ::= factor:f TIMES term:t\n",
    "                 {: RESULT = new Integer(f.intValue() * t.intValue()); :}\n",
    "                 |\n",
    "                 factor:f DIVIDE term:t\n",
    "                 {: RESULT = new Integer(f.intValue() / t.intValue()); :}\n",
    "                 |\n",
    "                 term:t\n",
    "                 {: RESULT = new Integer(t.intValue()); :}\n",
    "                 ;\n",
    "    term      ::= LPAREN expr:e RPAREN\n",
    "                 {: RESULT = e; :}\n",
    "                 |\n",
    "                 NUMBER:n\n",
    "                 {: RESULT = n; :}\n",
    "                 |\n",
    "                 ID:i\n",
    "                 {: RESULT = i; :}\n",
    "                 ;                 \n",
    "    ....\n",
    "```\n",
    "\n",
    "No exemplo em questão... as regras estão misturadas... Não entendo se isso é algo bom ou ruim.\n",
    "No arquivo .cup ele imprime apenas '= e' (mas calcula todos os passos inclusive +, /, *, -);\n",
    "No arquivo .lex ele imprime os tokens ao encontra-los. Mas apenas os imprime e os \"Retorna\" usando funções do cup. \n",
    "A montagem do código intermediário deve ser feita portanto no código contido em *.cup\n",
    "    \n",
    "\n",
    "##### Regras léxicas - JFLEX + code\n",
    "```    \n",
    "    No arquivo .lex ele imprime '+' ou um numero que faz parte de uma expressão '(4) + 3 = 7'\n",
    "        \"+\"                { System.out.print(\" + \"); return symbol(sym.PLUS); }\n",
    "        {dec_int_lit}      { System.out.print(yytext());\n",
    "                         return symbol(sym.NUMBER, new Integer(yytext())); }\n",
    "\n",
    "    ;\n",
    "```"
   ]
  },
  {
   "cell_type": "markdown",
   "metadata": {},
   "source": [
    "Ou seja, o arquivo .lex irá encontrar os tokens e lexemas do arquivo fonte e irá atribuir valores a eles. Gerando uma arvore de derivação anotada. \n",
    "\n",
    "No arquivo .cup regras/ações semanticas irão sintetizar o código em assembly. \n",
    "Gerando a saida necessária. \n",
    "\n"
   ]
  },
  {
   "cell_type": "code",
   "execution_count": 2,
   "metadata": {},
   "outputs": [
    {
     "name": "stdout",
     "output_type": "stream",
     "text": [
      "A small JFlex+Cup example\n",
      "\n",
      "It comes from a short article series in the Linux Gazette by Richard\n",
      "A. Sevenich and Christopher Lopes, titled \"Compiler Construction\n",
      "Tools\". The article series starts at\n",
      "Small changes and updates to newest JFlex+Cup versions by Gerwin Klein\n",
      "\n",
      "\n",
      "\n",
      "\n",
      "\n",
      "Files:\n",
      "\n",
      "cup/Main.java       demo of a main program\n",
      "cup/lcalc.flex      the lexer spec\n",
      "cup/output.good     how the output should look like for the test\n",
      "cup/ycalc.cup       the parser spec\n",
      "cup/test.txt        sample input for testing\n",
      "\n",
      "\n",
      "> To Compile\n",
      "\t\t~> Added JFLEX to PATH optional \n",
      "\t\tjflex lcalc.flex \t\t\t\t\t\t\t\t\t\t(Generates Lexer.java )                                                \n",
      "\t\tjava -cp <path_to_cup.jar>;. java_cup.Main < ycalc.cup \t(Receives the language grammar specs )\n",
      "\t\tjavac -cp <path_to_cup.jar>;. Main.java \t\t\t\t(Compiles Main class to would be equivalent to a compiler/interpreter )\n",
      "\n",
      "> To run: \n",
      "\t\tjava -cp <path_to_cup.jar>;. Main test.txt              (runs test.txt and outputs result)\n"
     ]
    }
   ],
   "source": [
    "f = open('README.md')\n",
    "print(f.read())\n",
    "f.close()"
   ]
  },
  {
   "cell_type": "code",
   "execution_count": 3,
   "metadata": {},
   "outputs": [],
   "source": [
    "#cmd('java -cp ../lib;. java_cup.Main < cup/ycalc.cup')\n",
    "#cmd('java -cp %{0}%\\lib;. java_cup.Main < cup/ycalc.cup')"
   ]
  },
  {
   "cell_type": "code",
   "execution_count": 4,
   "metadata": {},
   "outputs": [
    {
     "name": "stdout",
     "output_type": "stream",
     "text": [
      "Reading \"lcalc.flex\"\n",
      "Constructing NFA : 46 states in NFA\n",
      "Converting NFA to DFA : \n",
      ".................\n",
      "19 states before minimization, 14 states in minimized DFA\n",
      "Writing code to \"Lexer.java\"\n",
      "\n",
      "\n",
      "New files = {'Lexer.java', 'parser.java', 'sym.java'}\n",
      "Current directory : C:\\Users\\Paulo\\academic\\GOCompiler\\SimplestPossibleExample\n"
     ]
    }
   ],
   "source": [
    "from os import chdir, getcwd, sep, system\n",
    "\n",
    "def deleteFiles():\n",
    "    # Deletes - 'parser.java', 'sym.java', 'Lexer.java', 'Lexer.java~', '*.class'\n",
    "    import subprocess\n",
    "    subprocess.check_output('delfiles.bat')\n",
    "        \n",
    "retdir = getcwd()\n",
    "chdir('cup')\n",
    "deleteFiles()\n",
    "filesBefore = ls()\n",
    "cmd('jflex lcalc.flex')\n",
    "cmd('java -cp %JFLEX_HOME%\\lib\\java-cup-11a.jar;. java_cup.Main < ycalc.cup')\n",
    "filesAfter = ls()\n",
    "assert len(filesBefore) <= len(filesAfter)\n",
    "print(\"New files = {0}\".format(set(filesAfter).difference(set(filesBefore))))\n",
    "\n",
    "chdir(retdir) # goes back to correct dir\n",
    "print(\"Current directory : \" + retdir)\n"
   ]
  },
  {
   "cell_type": "markdown",
   "metadata": {},
   "source": [
    "Agora que temos o ``` sym.java, parser.java e Lexer.java ``` \n",
    "\n",
    "  After the scanner, lcalc.flex, and the parser, ycalc.cup, have been created. \n",
    "  > javac Main.java // Isso compilara o arquivo principal de tradução de código #calc - result \n",
    "  \n",
    "  > java Main test.txt\n",
    "\n",
    "  \n",
    "  "
   ]
  },
  {
   "cell_type": "code",
   "execution_count": 5,
   "metadata": {},
   "outputs": [
    {
     "name": "stdout",
     "output_type": "stream",
     "text": [
      "Reading \"lcalc.flex\"\n",
      "Constructing NFA : 46 states in NFA\n",
      "Converting NFA to DFA : \n",
      ".................\n",
      "19 states before minimization, 14 states in minimized DFA\n",
      "Old file \"Lexer.java\" saved as \"Lexer.java~\"\n",
      "Writing code to \"Lexer.java\"\n",
      "\n",
      "\n",
      "\n",
      "2 + 4 = 6\n",
      "5 *  ( 6 - 3 )  + 1 = 16\n",
      "6 / 3 * 5 + 20 = 30\n",
      "4 * 76 / 31 = 9\n",
      "1 - 1 - 1 = -1\n",
      "\n",
      "Deleting files: {'CUP$parser$actions.class', 'parser.java', 'sym.java', 'Lexer.java~', 'sym.class', 'Lexer.java', 'Main.class', 'parser.class', 'Lexer.class'}\n"
     ]
    }
   ],
   "source": [
    "chdir('cup') #resumindo\n",
    "cmd('jflex lcalc.flex') # generates Lexer \n",
    "cmd('java -cp %JFLEX_HOME%\\lib\\java-cup-11a.jar;. java_cup.Main < ycalc.cup') # generates parser.java, sym.java\n",
    "cmd('javac -cp %JFLEX_HOME%\\lib\\java-cup-11a.jar;. Main.java') # generates Translator that Creates a parser in the form | new parser(new Lexer(new FileReader(argv[0])));\n",
    "cmd('java -cp %JFLEX_HOME%\\lib\\java-cup-11a.jar;. Main test.txt') # passes test.txt to the Lexer > parser \n",
    "\n",
    "dirty = set(ls())\n",
    "deleteFiles()\n",
    "clean = set(ls())\n",
    "print(\"Deleting files: \" + str(dirty - clean))\n",
    "chdir(retdir)"
   ]
  },
  {
   "cell_type": "markdown",
   "metadata": {},
   "source": [
    "##### RESUMO \n",
    "\n",
    "1. [Adicionar regras léxicas](#Regras-léxicas---JFLEX-+-code) e adicionar ações para \"anotar\" a arvore de derivação do programa fonte. \n",
    "2. [Adicionar regras no arquivo .cup](#Definição-CUP---Regras-Gramática) que vai pegar os valores anotados dos nós e utilizalos para gerar código fonte assembly. "
   ]
  },
  {
   "cell_type": "code",
   "execution_count": null,
   "metadata": {},
   "outputs": [],
   "source": []
  }
 ],
 "metadata": {
  "kernelspec": {
   "display_name": "Python 3",
   "language": "python",
   "name": "python3"
  },
  "language_info": {
   "codemirror_mode": {
    "name": "ipython",
    "version": 3
   },
   "file_extension": ".py",
   "mimetype": "text/x-python",
   "name": "python",
   "nbconvert_exporter": "python",
   "pygments_lexer": "ipython3",
   "version": "3.6.4"
  }
 },
 "nbformat": 4,
 "nbformat_minor": 2
}
