{
 "cells": [
  {
   "cell_type": "markdown",
   "metadata": {},
   "source": [
    "<img src=\"https://pbs.twimg.com/profile_images/928987025403006976/_1jMEtK9_400x400.jpg\" alt=\"drawing\" width=\"200px\"/>\n",
    "\n",
    "<h2 style=\"text-align: center; margin-top: .5em\"> \n",
    "    [Universidade Federal de Campina Grande - UFCG](http://www.ufcg.edu.br/) \n",
    "</h2>\n",
    "<h2 style=\"text-align: center; margin-top: .5em\">  \n",
    "    [Departamento de Sistemas e Computação](http://www.computacao.ufcg.edu.br/) \n",
    "</h2>\n",
    "\n",
    "<div style=\"width: 35em; margin: auto; margin-top: 1em\">\n",
    "<h4 style=\"margin-top: .5em\"> Disciplina: [Compiladores](http://www.dsc.ufcg.edu.br/~franklin/disciplinas/2018-1/Compiladores/) </h4>\n",
    "<h4 style=\"margin-top: .5em\"> Professor: [Leandro Balby Marinho](https://scholar.google.com.br/citations?user=6XO2tOwAAAAJ&hl=EN) </h4>\n",
    "<h5 style=\"font-style: normal; margin-top: .5em\"> Aluno: </h5>\n",
    "<ul style=\"list-style-type: cjk-ideographic !important;\"> <li>[Paulo Sérgio]( mailto:paulo.araujo@ccc.ufcg.edu.br ) </li></ul>\n",
    "</div>\n",
    "---\n",
    "\n",
    "##### Fases da construção de um compilador \n",
    "Para construirmos um compilador que traduza código GO para Assembly temos que atender as etapas clássicas na construção de um compilador, sendo estas: \n",
    "    1. Análise Léxica \n",
    "    2. Análise Sintática\n",
    "    3. Análise Semântica \n",
    "    \n",
    "### 1. Análise Léxica\n",
    "\n",
    "Para fazer a análise léxica usaremos a ferramenta [JFLEX](http://jflex.de), que é um analisador léxico escrito em java. O JFLEX utiliza um arquivo de entrada que especifíca a estrutura da linguagem. Um manual sobre JFLEX e como entregar com o CUP pode ser encontrado no seguinte endereço http://jflex.de/manual.pdf\n",
    "\n",
    "Dentro do aquivo .lex temos que ligar trechos do CUP que nos ajudarão a aplicar as ações semânticas destinadas a tradução do código. \n",
    "```java\n",
    "import java_cup.runtime.*;\n",
    "import cup.sym; \n",
    "%cup\n",
    "%cupdebug\n",
    "%line \n",
    "%column \n",
    "\n",
    "/*\n",
    "  Declarações\n",
    "  Código entre %{ e %}, ambos dos quais devem estar no inicio de uma linha\n",
    "  será copiado letra a letra para dentro do arquivo fonte Lexer. \n",
    "  Aqui você irá declarar variáveis e funções que serão utilizadas nas ações de 'scaneamento'\n",
    "  \n",
    "*/\n",
    "%{   \n",
    "    /* Para criar um novo java_cup.runtime.Symbol com informação sobre\n",
    "       o token atual, mas esse tipo de token não tem valor associado. \n",
    "    */\n",
    "    private Symbol symbol(int type) {\n",
    "        return new Symbol(type, yyline, yycolumn);\n",
    "    }\n",
    "    \n",
    "    /* Também cria um new java_cup.runtime.Symbol Com informação  \n",
    "       sobre o token atual, mas esse objeto tem um valor. */\n",
    "    private Symbol symbol(int type, Object value) {\n",
    "        return new Symbol(type, yyline, yycolumn, value);\n",
    "    }\n",
    "%}\n",
    "%% \n",
    "   ...\n",
    "   {Numero}+{IS}?                            { return symbol(sym.CONSTANT, new String(yytext())); }\n",
    "\n",
    "```\n",
    "\n",
    "Isso deveria gerar uma saída que vai será o parser da linguagem depois. \n",
    "\n",
    "Links auxiliares:\n",
    "\n",
    "    https://johnidm.gitbooks.io/compiladores-para-humanos/content/part1/lexical-analysis.html\n",
    "\n",
    "    https://johnidm.gitbooks.io/compiladores-para-humanos/content/part2/building-the-first-lexical-analyzer-with-JFlex.html \n",
    "\n",
    "\n",
    "##### Executando a Análise Léxica  \n",
    "\n",
    "Precisamoo portanto executar os seguintes passos \n",
    "\n",
    "1. Escrever o arquivo .lex com as regras necessárias para a linguagem GO. \n",
    "2. Escrever o arquivo .cup com a gramática e as ações semânticas que irá gerar o código assembly equivalente. \n",
    "3. Escrever um Compilador/Tradutor que irá utilizar o Lexer, Parser para gerar um arquivo em assembly. \n",
    "    \n",
    "    "
   ]
  },
  {
   "cell_type": "markdown",
   "metadata": {},
   "source": [
    "###### Utils"
   ]
  },
  {
   "cell_type": "code",
   "execution_count": 1,
   "metadata": {},
   "outputs": [],
   "source": [
    "from os import popen\n",
    "def cmd(cmd): print(popen(cmd).read()) # Executa um comando e imprime a saida.\n",
    "    "
   ]
  },
  {
   "cell_type": "markdown",
   "metadata": {},
   "source": [
    "- ###### Especificações no arquivo .lex\n",
    "\n",
    "As regras adicionadas no arquivo .lex estão disponíveis no próprio site da especificação da linguagem. \n",
    "- https://golang.org/ref/spec\n",
    "\n",
    "No arquivo .lex iremos definir: \n",
    "    - Padrões dos tokens escritos em expressão regulares\n",
    "    - Ações para 'informar' ao CUP quando acharmos tokens.\n",
    "\n",
    "Como o nosso arquivo .lex já está ligado com o cup, não podemos compilar e mostrar vagarosamente os passos \n",
    "incrementais para a construção do nosso tradutor(compilador) GO - ASSEMBLY. \n",
    "\n",
    "Assim devemos basear esse documento nos seguintes comandos necessários para a execução do código. \n",
    "\n",
    "``` bash\n",
    "jflex src\\flex\\rules.flex\n",
    "java -cp %JFLEX_HOME%\\lib\\java-cup-11a.jar;. java_cup.Main < spec.cup  # gera parser.java, sym.java apartir da gramática da linguagem\n",
    "javac -cp %JFLEX_HOME%\\lib\\java-cup-11a.jar;. Translator.java # Gera tradutor : new parser(new Lexer(new FileReader(argv[0])))\n",
    "java -cp %JFLEX_HOME%\\lib\\java-cup-11a.jar;. Translator <sourcefile>\n",
    "```\n",
    "\n",
    "###### Comando 1"
   ]
  },
  {
   "cell_type": "code",
   "execution_count": 2,
   "metadata": {},
   "outputs": [
    {
     "name": "stdout",
     "output_type": "stream",
     "text": [
      "Reading \"src\\flex\\rules.flex\"\n",
      "Constructing NFA : 565 states in NFA\n",
      "Converting NFA to DFA : \n",
      "...................................................................................................................................................................................................................................................\n",
      "245 states before minimization, 185 states in minimized DFA\n",
      "Old file \"src\\flex\\Lexer.java\" saved as \"src\\flex\\Lexer.java~\"\n",
      "Writing code to \"src\\flex\\Lexer.java\"\n",
      "\n"
     ]
    }
   ],
   "source": [
    "cmd('jflex src/flex/rules.flex') # Cria um Lexer das regras da análise léxica"
   ]
  },
  {
   "cell_type": "markdown",
   "metadata": {},
   "source": [
    "###### Comando 2  | Gerar parser e sym.java "
   ]
  },
  {
   "cell_type": "code",
   "execution_count": 3,
   "metadata": {},
   "outputs": [
    {
     "name": "stdout",
     "output_type": "stream",
     "text": [
      "\n",
      "Reading \"src\\flex\\rules.flex\"\n",
      "Constructing NFA : 565 states in NFA\n",
      "Converting NFA to DFA : \n",
      "...................................................................................................................................................................................................................................................\n",
      "245 states before minimization, 185 states in minimized DFA\n",
      "Old file \"src\\flex\\Lexer.java\" saved as \"src\\flex\\Lexer.java~\"\n",
      "Writing code to \"src\\flex\\Lexer.java\"\n",
      "\n"
     ]
    }
   ],
   "source": [
    "from os import sep, listdir, chdir, getcwd\n",
    "\n",
    "cmd('java -cp %JFLEX_HOME%{0}lib{0}java-cup-11a.jar;src{0}flex{0}. java_cup.Main -destdir src{0}flex < src{0}flex{0}spec.cup '.format(sep))\n",
    "cmd('jflex src{0}flex{0}rules.flex'.format(sep))\n",
    "for elem in ['parser.java', 'sym.java']:\n",
    "    assert elem in listdir('src/flex')"
   ]
  },
  {
   "cell_type": "markdown",
   "metadata": {},
   "source": [
    "###### Comando 3 | Compilador/Tradutor"
   ]
  },
  {
   "cell_type": "code",
   "execution_count": 4,
   "metadata": {
    "scrolled": true
   },
   "outputs": [
    {
     "name": "stdout",
     "output_type": "stream",
     "text": [
      "C:\\Users\\Paulo\\academic\\gocomp\n",
      "['.gitignore', 'CUP$parser$actions.class', 'Lexer.class', 'Lexer.java', 'Lexer.java~', 'parser.class', 'parser.java', 'rules.flex', 'spec.cup', 'sym.class', 'sym.java', 'test.txt', 'Translator.class', 'Translator.java']\n",
      "\n"
     ]
    }
   ],
   "source": [
    "#javac -cp %JFLEX_HOME%\\lib\\java-cup-11a.jar;.  # Gera tradutor : new parser(new Lexer(new FileReader(argv[0])))\n",
    "\n",
    "retdir = getcwd()\n",
    "print(retdir)\n",
    "chdir('src{0}flex'.format(sep))\n",
    "print(listdir())\n",
    "cmd('javac -cp %JFLEX_HOME%{0}lib{0}java-cup-11a.jar;src{0}flex{0};. Translator.java'.format(sep))\n",
    "chdir(retdir)"
   ]
  },
  {
   "cell_type": "code",
   "execution_count": 5,
   "metadata": {},
   "outputs": [
    {
     "name": "stdout",
     "output_type": "stream",
     "text": [
      "Found identifier: main\n",
      "Found keyword: func\n",
      "Found identifier: main\n",
      "Found operator/punctuation: (\n",
      "Found operator/punctuation: )\n",
      "Found operator/punctuation: {\n",
      "Found identifier: println\n",
      "Found operator/punctuation: (\n",
      "Found string literal: \"ola\"\n",
      "Found operator/punctuation: )\n",
      "Found operator/punctuation: }\n",
      "\"ola\"\n",
      "compilation_unit matched\n",
      "cunitcode\n",
      "result porra\n",
      "\n"
     ]
    }
   ],
   "source": [
    "retdir = getcwd()\n",
    "chdir('src{0}flex'.format(sep))\n",
    "cmd('java -cp %JFLEX_HOME%{0}lib{0}java-cup-11a.jar;src{0}flex{0};. Translator test.txt'.format(sep))\n",
    "\n",
    "chdir(retdir)"
   ]
  },
  {
   "cell_type": "code",
   "execution_count": 6,
   "metadata": {},
   "outputs": [
    {
     "data": {
      "text/plain": [
       "'java -cp %JFLEX_HOME%\\\\lib\\\\java-cup-11a.jar;src\\\\flex\\\\;. Translator test.txt'"
      ]
     },
     "execution_count": 6,
     "metadata": {},
     "output_type": "execute_result"
    }
   ],
   "source": [
    "'java -cp %JFLEX_HOME%{0}lib{0}java-cup-11a.jar;src{0}flex{0};. Translator test.txt'.format(sep)"
   ]
  },
  {
   "cell_type": "code",
   "execution_count": null,
   "metadata": {},
   "outputs": [],
   "source": []
  }
 ],
 "metadata": {
  "kernelspec": {
   "display_name": "Python 3",
   "language": "python",
   "name": "python3"
  },
  "language_info": {
   "codemirror_mode": {
    "name": "ipython",
    "version": 3
   },
   "file_extension": ".py",
   "mimetype": "text/x-python",
   "name": "python",
   "nbconvert_exporter": "python",
   "pygments_lexer": "ipython3",
   "version": "3.6.4"
  }
 },
 "nbformat": 4,
 "nbformat_minor": 2
}
